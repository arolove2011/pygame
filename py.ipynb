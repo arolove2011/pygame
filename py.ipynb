{
 "cells": [
  {
   "cell_type": "code",
   "execution_count": 1,
   "metadata": {},
   "outputs": [
    {
     "name": "stdout",
     "output_type": "stream",
     "text": [
      "Collecting pygame\n",
      "  Obtaining dependency information for pygame from https://files.pythonhosted.org/packages/77/9c/bfda7cb67b1deaf7256daab1be178c113bf46465ccb7c3cbfb77dfd4b8c3/pygame-2.5.1-cp311-cp311-win_amd64.whl.metadata\n",
      "  Downloading pygame-2.5.1-cp311-cp311-win_amd64.whl.metadata (13 kB)\n",
      "Downloading pygame-2.5.1-cp311-cp311-win_amd64.whl (10.6 MB)\n",
      "   ---------------------------------------- 0.0/10.6 MB ? eta -:--:--\n",
      "   ---------------------------------------- 0.0/10.6 MB 640.0 kB/s eta 0:00:17\n",
      "   - -------------------------------------- 0.4/10.6 MB 4.5 MB/s eta 0:00:03\n",
      "   --- ------------------------------------ 1.0/10.6 MB 7.8 MB/s eta 0:00:02\n",
      "   ------ --------------------------------- 1.8/10.6 MB 10.3 MB/s eta 0:00:01\n",
      "   ---------- ----------------------------- 2.8/10.6 MB 12.7 MB/s eta 0:00:01\n",
      "   --------------- ------------------------ 4.1/10.6 MB 15.2 MB/s eta 0:00:01\n",
      "   --------------------- ------------------ 5.6/10.6 MB 17.8 MB/s eta 0:00:01\n",
      "   ---------------------------- ----------- 7.5/10.6 MB 20.9 MB/s eta 0:00:01\n",
      "   ----------------------------------- ---- 9.5/10.6 MB 23.3 MB/s eta 0:00:01\n",
      "   ---------------------------------------- 10.6/10.6 MB 27.3 MB/s eta 0:00:00\n",
      "Installing collected packages: pygame\n",
      "Successfully installed pygame-2.5.1\n",
      "Note: you may need to restart the kernel to use updated packages.\n"
     ]
    }
   ],
   "source": [
    "%pip install pygame"
   ]
  }
 ],
 "metadata": {
  "kernelspec": {
   "display_name": "Python 3",
   "language": "python",
   "name": "python3"
  },
  "language_info": {
   "codemirror_mode": {
    "name": "ipython",
    "version": 3
   },
   "file_extension": ".py",
   "mimetype": "text/x-python",
   "name": "python",
   "nbconvert_exporter": "python",
   "pygments_lexer": "ipython3",
   "version": "3.11.5"
  },
  "orig_nbformat": 4
 },
 "nbformat": 4,
 "nbformat_minor": 2
}
