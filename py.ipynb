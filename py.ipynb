{
 "cells": [
  {
   "cell_type": "code",
   "execution_count": 1,
   "metadata": {},
   "outputs": [
    {
     "name": "stdout",
     "output_type": "stream",
     "text": [
      "Collecting pygame\n",
      "  Obtaining dependency information for pygame from https://files.pythonhosted.org/packages/77/9c/bfda7cb67b1deaf7256daab1be178c113bf46465ccb7c3cbfb77dfd4b8c3/pygame-2.5.1-cp311-cp311-win_amd64.whl.metadata\n",
      "  Downloading pygame-2.5.1-cp311-cp311-win_amd64.whl.metadata (13 kB)\n",
      "Downloading pygame-2.5.1-cp311-cp311-win_amd64.whl (10.6 MB)\n",
      "   ---------------------------------------- 0.0/10.6 MB ? eta -:--:--\n",
      "   ---------------------------------------- 0.0/10.6 MB ? eta -:--:--\n",
      "    --------------------------------------- 0.2/10.6 MB 3.5 MB/s eta 0:00:03\n",
      "   ---- ----------------------------------- 1.3/10.6 MB 13.9 MB/s eta 0:00:01\n",
      "   ------------- -------------------------- 3.6/10.6 MB 22.8 MB/s eta 0:00:01\n",
      "   ------------------- -------------------- 5.3/10.6 MB 26.0 MB/s eta 0:00:01\n",
      "   -------------------------- ------------- 7.1/10.6 MB 30.1 MB/s eta 0:00:01\n",
      "   --------------------------------- ------ 8.9/10.6 MB 30.0 MB/s eta 0:00:01\n",
      "   -------------------------------------- - 10.3/10.6 MB 36.4 MB/s eta 0:00:01\n",
      "   ---------------------------------------- 10.6/10.6 MB 34.4 MB/s eta 0:00:00\n",
      "Installing collected packages: pygame\n",
      "Successfully installed pygame-2.5.1\n",
      "Note: you may need to restart the kernel to use updated packages.\n"
     ]
    }
   ],
   "source": [
    "%pip install pygame"
   ]
  }
 ],
 "metadata": {
  "kernelspec": {
   "display_name": "Python 3",
   "language": "python",
   "name": "python3"
  },
  "language_info": {
   "codemirror_mode": {
    "name": "ipython",
    "version": 3
   },
   "file_extension": ".py",
   "mimetype": "text/x-python",
   "name": "python",
   "nbconvert_exporter": "python",
   "pygments_lexer": "ipython3",
   "version": "3.11.5"
  },
  "orig_nbformat": 4
 },
 "nbformat": 4,
 "nbformat_minor": 2
}
